{
 "cells": [
  {
   "cell_type": "code",
   "execution_count": 10,
   "metadata": {},
   "outputs": [],
   "source": [
    "#ignore warnings\n",
    "import warnings\n",
    "warnings.filterwarnings(\"ignore\")\n",
    "\n",
    "from sklearn.preprocessing import LabelEncoder, OneHotEncoder, MinMaxScaler\n",
    "import pandas as pd\n",
    "import numpy as np\n",
    "\n",
    "import wrangle_mall\n",
    "import env"
   ]
  },
  {
   "cell_type": "markdown",
   "metadata": {},
   "source": [
    "# Acquire Mall Customers into a notebook\n",
    "1. Acquire data from mall_customers.customers in mysql database"
   ]
  },
  {
   "cell_type": "code",
   "execution_count": 11,
   "metadata": {},
   "outputs": [],
   "source": [
    "df = wrangle_mall.acquire_mall()"
   ]
  },
  {
   "cell_type": "markdown",
   "metadata": {},
   "source": [
    "2. Summarize data (include distributions and descriptive statistics)"
   ]
  },
  {
   "cell_type": "code",
   "execution_count": 12,
   "metadata": {},
   "outputs": [
    {
     "name": "stdout",
     "output_type": "stream",
     "text": [
      "--- Shape: (200, 4)\n",
      "--- Info\n",
      "<class 'pandas.core.frame.DataFrame'>\n",
      "Int64Index: 200 entries, 1 to 200\n",
      "Data columns (total 4 columns):\n",
      "gender            200 non-null object\n",
      "age               200 non-null int64\n",
      "annual_income     200 non-null int64\n",
      "spending_score    200 non-null int64\n",
      "dtypes: int64(3), object(1)\n",
      "memory usage: 7.8+ KB\n",
      "--- Descriptions\n",
      "        gender         age  annual_income  spending_score\n",
      "count      200  200.000000     200.000000      200.000000\n",
      "unique       2         NaN            NaN             NaN\n",
      "top     Female         NaN            NaN             NaN\n",
      "freq       112         NaN            NaN             NaN\n",
      "mean       NaN   38.850000      60.560000       50.200000\n",
      "std        NaN   13.969007      26.264721       25.823522\n",
      "min        NaN   18.000000      15.000000        1.000000\n",
      "25%        NaN   28.750000      41.500000       34.750000\n",
      "50%        NaN   36.000000      61.500000       50.000000\n",
      "75%        NaN   49.000000      78.000000       73.000000\n",
      "max        NaN   70.000000     137.000000       99.000000\n",
      "--- Nulls By Column\n",
      "                num_rows_missing  pct_rows_missing\n",
      "gender                         0               0.0\n",
      "age                            0               0.0\n",
      "annual_income                  0               0.0\n",
      "spending_score                 0               0.0\n",
      "--- Nulls By Row\n",
      "  num_cols_missing pct_cols_missing  customer_id\n",
      "0                0              0.0          200\n",
      "--- Value Counts\n",
      "Female            112\n",
      "Male               88\n",
      "(17.947, 23.2]     31\n",
      "(23.2, 28.4]       19\n",
      "(28.4, 33.6]       34\n",
      "(33.6, 38.8]       29\n",
      "(38.8, 44.0]       18\n",
      "(44.0, 49.2]       24\n",
      "(49.2, 54.4]       15\n",
      "(54.4, 59.6]       10\n",
      "(59.6, 64.8]        6\n",
      "(64.8, 70.0]       14\n",
      "(14.877, 27.2]     24\n",
      "(27.2, 39.4]       22\n",
      "(39.4, 51.6]       28\n",
      "(51.6, 63.8]       38\n",
      "(63.8, 76.0]       32\n",
      "(76.0, 88.2]       34\n",
      "(88.2, 100.4]       8\n",
      "(100.4, 112.6]      6\n",
      "(112.6, 124.8]      4\n",
      "(124.8, 137.0]      4\n",
      "(0.901, 10.8]      16\n",
      "(10.8, 20.6]       20\n",
      "(20.6, 30.4]       10\n",
      "(30.4, 40.2]       17\n",
      "(40.2, 50.0]       40\n",
      "(50.0, 59.8]       32\n",
      "(59.8, 69.6]       11\n",
      "(69.6, 79.4]       24\n",
      "(79.4, 89.2]       14\n",
      "(89.2, 99.0]       16\n",
      "dtype: int64\n"
     ]
    }
   ],
   "source": [
    "wrangle_mall.df_summary(df)"
   ]
  },
  {
   "cell_type": "markdown",
   "metadata": {},
   "source": [
    "3. Detect outliers using IQR"
   ]
  },
  {
   "cell_type": "code",
   "execution_count": 13,
   "metadata": {},
   "outputs": [],
   "source": [
    "k = 1.5\n",
    "df = wrangle_mall.add_upper_outlier_columns(df, k)"
   ]
  },
  {
   "cell_type": "markdown",
   "metadata": {},
   "source": [
    "4. Split data (train-test-split)"
   ]
  },
  {
   "cell_type": "code",
   "execution_count": 14,
   "metadata": {},
   "outputs": [],
   "source": [
    "train, test = wrangle_mall.split_my_data(df,.80, 123)"
   ]
  },
  {
   "cell_type": "markdown",
   "metadata": {},
   "source": [
    "5. Encode categorical columns using a one hot encoder"
   ]
  },
  {
   "cell_type": "code",
   "execution_count": 15,
   "metadata": {},
   "outputs": [],
   "source": [
    "col_name = 'gender'\n",
    "\n",
    "test, train = wrangle_mall.encode(train, test, col_name)\n",
    "test.drop(columns='gender',inplace=True)\n",
    "train.drop(columns='gender',inplace=True)\n"
   ]
  },
  {
   "cell_type": "markdown",
   "metadata": {},
   "source": [
    "6. Handles missing values"
   ]
  },
  {
   "cell_type": "code",
   "execution_count": 16,
   "metadata": {},
   "outputs": [
    {
     "data": {
      "text/html": [
       "<div>\n",
       "<style scoped>\n",
       "    .dataframe tbody tr th:only-of-type {\n",
       "        vertical-align: middle;\n",
       "    }\n",
       "\n",
       "    .dataframe tbody tr th {\n",
       "        vertical-align: top;\n",
       "    }\n",
       "\n",
       "    .dataframe thead th {\n",
       "        text-align: right;\n",
       "    }\n",
       "</style>\n",
       "<table border=\"1\" class=\"dataframe\">\n",
       "  <thead>\n",
       "    <tr style=\"text-align: right;\">\n",
       "      <th></th>\n",
       "      <th>num_rows_missing</th>\n",
       "      <th>pct_rows_missing</th>\n",
       "    </tr>\n",
       "  </thead>\n",
       "  <tbody>\n",
       "    <tr>\n",
       "      <th>age</th>\n",
       "      <td>0</td>\n",
       "      <td>0.0</td>\n",
       "    </tr>\n",
       "    <tr>\n",
       "      <th>annual_income</th>\n",
       "      <td>0</td>\n",
       "      <td>0.0</td>\n",
       "    </tr>\n",
       "    <tr>\n",
       "      <th>spending_score</th>\n",
       "      <td>0</td>\n",
       "      <td>0.0</td>\n",
       "    </tr>\n",
       "    <tr>\n",
       "      <th>age_outliers</th>\n",
       "      <td>0</td>\n",
       "      <td>0.0</td>\n",
       "    </tr>\n",
       "    <tr>\n",
       "      <th>annual_income_outliers</th>\n",
       "      <td>0</td>\n",
       "      <td>0.0</td>\n",
       "    </tr>\n",
       "    <tr>\n",
       "      <th>spending_score_outliers</th>\n",
       "      <td>0</td>\n",
       "      <td>0.0</td>\n",
       "    </tr>\n",
       "    <tr>\n",
       "      <th>Female</th>\n",
       "      <td>0</td>\n",
       "      <td>0.0</td>\n",
       "    </tr>\n",
       "    <tr>\n",
       "      <th>Male</th>\n",
       "      <td>0</td>\n",
       "      <td>0.0</td>\n",
       "    </tr>\n",
       "  </tbody>\n",
       "</table>\n",
       "</div>"
      ],
      "text/plain": [
       "                         num_rows_missing  pct_rows_missing\n",
       "age                                     0               0.0\n",
       "annual_income                           0               0.0\n",
       "spending_score                          0               0.0\n",
       "age_outliers                            0               0.0\n",
       "annual_income_outliers                  0               0.0\n",
       "spending_score_outliers                 0               0.0\n",
       "Female                                  0               0.0\n",
       "Male                                    0               0.0"
      ]
     },
     "execution_count": 16,
     "metadata": {},
     "output_type": "execute_result"
    }
   ],
   "source": [
    "wrangle_mall.nulls_by_col(train)"
   ]
  },
  {
   "cell_type": "code",
   "execution_count": 17,
   "metadata": {
    "scrolled": true
   },
   "outputs": [
    {
     "data": {
      "text/html": [
       "<div>\n",
       "<style scoped>\n",
       "    .dataframe tbody tr th:only-of-type {\n",
       "        vertical-align: middle;\n",
       "    }\n",
       "\n",
       "    .dataframe tbody tr th {\n",
       "        vertical-align: top;\n",
       "    }\n",
       "\n",
       "    .dataframe thead th {\n",
       "        text-align: right;\n",
       "    }\n",
       "</style>\n",
       "<table border=\"1\" class=\"dataframe\">\n",
       "  <thead>\n",
       "    <tr style=\"text-align: right;\">\n",
       "      <th></th>\n",
       "      <th>num_rows_missing</th>\n",
       "      <th>pct_rows_missing</th>\n",
       "    </tr>\n",
       "  </thead>\n",
       "  <tbody>\n",
       "    <tr>\n",
       "      <th>age</th>\n",
       "      <td>0</td>\n",
       "      <td>0.0</td>\n",
       "    </tr>\n",
       "    <tr>\n",
       "      <th>annual_income</th>\n",
       "      <td>0</td>\n",
       "      <td>0.0</td>\n",
       "    </tr>\n",
       "    <tr>\n",
       "      <th>spending_score</th>\n",
       "      <td>0</td>\n",
       "      <td>0.0</td>\n",
       "    </tr>\n",
       "    <tr>\n",
       "      <th>age_outliers</th>\n",
       "      <td>0</td>\n",
       "      <td>0.0</td>\n",
       "    </tr>\n",
       "    <tr>\n",
       "      <th>annual_income_outliers</th>\n",
       "      <td>0</td>\n",
       "      <td>0.0</td>\n",
       "    </tr>\n",
       "    <tr>\n",
       "      <th>spending_score_outliers</th>\n",
       "      <td>0</td>\n",
       "      <td>0.0</td>\n",
       "    </tr>\n",
       "    <tr>\n",
       "      <th>Female</th>\n",
       "      <td>0</td>\n",
       "      <td>0.0</td>\n",
       "    </tr>\n",
       "    <tr>\n",
       "      <th>Male</th>\n",
       "      <td>0</td>\n",
       "      <td>0.0</td>\n",
       "    </tr>\n",
       "  </tbody>\n",
       "</table>\n",
       "</div>"
      ],
      "text/plain": [
       "                         num_rows_missing  pct_rows_missing\n",
       "age                                     0               0.0\n",
       "annual_income                           0               0.0\n",
       "spending_score                          0               0.0\n",
       "age_outliers                            0               0.0\n",
       "annual_income_outliers                  0               0.0\n",
       "spending_score_outliers                 0               0.0\n",
       "Female                                  0               0.0\n",
       "Male                                    0               0.0"
      ]
     },
     "execution_count": 17,
     "metadata": {},
     "output_type": "execute_result"
    }
   ],
   "source": [
    "wrangle_mall.nulls_by_col(test)"
   ]
  },
  {
   "cell_type": "markdown",
   "metadata": {},
   "source": [
    "7. Scaling"
   ]
  },
  {
   "cell_type": "code",
   "execution_count": 18,
   "metadata": {},
   "outputs": [],
   "source": [
    "train_scaled, test_scaled, scaler = wrangle_mall.standard_scaler(train,test)"
   ]
  },
  {
   "cell_type": "code",
   "execution_count": null,
   "metadata": {},
   "outputs": [],
   "source": [
    "train"
   ]
  }
 ],
 "metadata": {
  "kernelspec": {
   "display_name": "Python 3",
   "language": "python",
   "name": "python3"
  },
  "language_info": {
   "codemirror_mode": {
    "name": "ipython",
    "version": 3
   },
   "file_extension": ".py",
   "mimetype": "text/x-python",
   "name": "python",
   "nbconvert_exporter": "python",
   "pygments_lexer": "ipython3",
   "version": "3.7.3"
  }
 },
 "nbformat": 4,
 "nbformat_minor": 2
}
